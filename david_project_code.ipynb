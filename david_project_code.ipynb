{
 "cells": [
  {
   "cell_type": "code",
   "execution_count": 3,
   "outputs": [
    {
     "name": "stdout",
     "output_type": "stream",
     "text": [
      "Ttest_indResult(statistic=6.002061923911604, pvalue=2.4403957233035955e-09)\n"
     ]
    }
   ],
   "source": [
    "import pandas as pd\n",
    "import seaborn as sns\n",
    "from sklearn import model_selection\n",
    "from sklearn import linear_model\n",
    "from sklearn import metrics\n",
    "import scipy\n",
    "\n",
    "project_data = pd.read_csv(\"games.csv\")\n",
    "# project_data\n",
    "\n",
    "is_rpg = pd.DataFrame(data=None, columns=project_data.columns, index=project_data.index)\n",
    "is_not_rpg = pd.DataFrame(data=None, columns=project_data.columns, index=project_data.index)\n",
    "row_num = 0\n",
    "\n",
    "for index, row in project_data.iterrows():\n",
    "    if 'RPG' in row[\"Genres\"]:\n",
    "        is_rpg.loc[row_num] = row\n",
    "        row_num += 1\n",
    "\n",
    "for index, row in project_data.iterrows():\n",
    "    if 'RPG' not in row[\"Genres\"]:\n",
    "        is_not_rpg.loc[row_num] = row\n",
    "        row_num += 1\n",
    "\n",
    "is_rpg = is_rpg.dropna()\n",
    "\n",
    "is_not_rpg = is_not_rpg.dropna()\n",
    "\n",
    "rpg_rating = list(is_rpg[\"Rating\"])\n",
    "non_rpg_rating = list(is_not_rpg[\"Rating\"])\n",
    "\n",
    "print(scipy.stats.ttest_ind(a=rpg_rating, b=non_rpg_rating))"
   ],
   "metadata": {
    "collapsed": false
   }
  },
  {
   "cell_type": "code",
   "execution_count": 4,
   "outputs": [
    {
     "name": "stdout",
     "output_type": "stream",
     "text": [
      "LinregressResult(slope=-1.0439097743259489e-07, intercept=3.726201233461509, rvalue=-0.034999651756841686, pvalue=0.1757648705089591, stderr=7.706679192663789e-08, intercept_stderr=0.014481108332420556)\n"
     ]
    }
   ],
   "source": [
    "# specify the columns to be modified\n",
    "cols_to_modify = [\"Plays\", \"Playing\", \"Backlogs\", \"Wishlist\", \"Number of Reviews\", \"Times Listed\"]\n",
    "\n",
    "# use the replace method with the specified columns and dictionary of replacements\n",
    "project_data[cols_to_modify] = project_data[cols_to_modify].apply(lambda x: pd.to_numeric(x.str.replace('K', '')) * 1000 if \"K\" in str(x) else pd.to_numeric(x))\n",
    "\n",
    "# display the modified DataFrame\n",
    "project_data.describe(include=\"all\")\n",
    "\n",
    "\n",
    "project_data = project_data.dropna()\n",
    "\n",
    "print(scipy.stats.linregress(x=project_data[\"Plays\"], y=project_data[\"Rating\"]))\n"
   ],
   "metadata": {
    "collapsed": false
   }
  },
  {
   "cell_type": "code",
   "execution_count": 5,
   "outputs": [
    {
     "name": "stdout",
     "output_type": "stream",
     "text": [
      "0.0728324073927592\n",
      "0.10832982848849182\n"
     ]
    },
    {
     "data": {
      "text/plain": "            variable   coefficient\n0       Times Listed -2.591780e+07\n1  Number of Reviews -2.591780e+07\n2              Plays -2.591780e+07\n3            Playing -2.591780e+07\n4           Backlogs -2.591780e+07\n5           Wishlist -2.591780e+07",
      "text/html": "<div>\n<style scoped>\n    .dataframe tbody tr th:only-of-type {\n        vertical-align: middle;\n    }\n\n    .dataframe tbody tr th {\n        vertical-align: top;\n    }\n\n    .dataframe thead th {\n        text-align: right;\n    }\n</style>\n<table border=\"1\" class=\"dataframe\">\n  <thead>\n    <tr style=\"text-align: right;\">\n      <th></th>\n      <th>variable</th>\n      <th>coefficient</th>\n    </tr>\n  </thead>\n  <tbody>\n    <tr>\n      <th>0</th>\n      <td>Times Listed</td>\n      <td>-2.591780e+07</td>\n    </tr>\n    <tr>\n      <th>1</th>\n      <td>Number of Reviews</td>\n      <td>-2.591780e+07</td>\n    </tr>\n    <tr>\n      <th>2</th>\n      <td>Plays</td>\n      <td>-2.591780e+07</td>\n    </tr>\n    <tr>\n      <th>3</th>\n      <td>Playing</td>\n      <td>-2.591780e+07</td>\n    </tr>\n    <tr>\n      <th>4</th>\n      <td>Backlogs</td>\n      <td>-2.591780e+07</td>\n    </tr>\n    <tr>\n      <th>5</th>\n      <td>Wishlist</td>\n      <td>-2.591780e+07</td>\n    </tr>\n  </tbody>\n</table>\n</div>"
     },
     "metadata": {},
     "output_type": "display_data"
    }
   ],
   "source": [
    "quant_only = project_data[[\"Rating\", \"Times Listed\", \"Number of Reviews\", \"Plays\", \"Playing\", \"Backlogs\", \"Wishlist\"]]\n",
    "# display(quant_only.iloc[:, +1:])\n",
    "\n",
    "X_train, X_test, y_train, y_test = model_selection.train_test_split(quant_only.iloc[:, +1:], quant_only[\"Rating\"], random_state = 111)\n",
    "reg = linear_model.LinearRegression().fit(X_train, y_train)\n",
    "print(reg.score(X_test, y_test))\n",
    "print(reg.score(X_train, y_train))\n",
    "display(pd.DataFrame({\"variable\": X_train.columns, \"coefficient\": reg.coef_[0]}).sort_values(\"coefficient\"))\n",
    "# quant_only\n",
    "\n"
   ],
   "metadata": {
    "collapsed": false
   }
  }
 ],
 "metadata": {
  "kernelspec": {
   "display_name": "Python 3",
   "language": "python",
   "name": "python3"
  },
  "language_info": {
   "codemirror_mode": {
    "name": "ipython",
    "version": 2
   },
   "file_extension": ".py",
   "mimetype": "text/x-python",
   "name": "python",
   "nbconvert_exporter": "python",
   "pygments_lexer": "ipython2",
   "version": "2.7.6"
  }
 },
 "nbformat": 4,
 "nbformat_minor": 0
}
